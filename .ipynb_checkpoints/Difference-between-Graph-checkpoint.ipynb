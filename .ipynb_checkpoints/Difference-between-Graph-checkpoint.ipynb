{
 "cells": [
  {
   "cell_type": "code",
   "execution_count": 2,
   "id": "b434ce03",
   "metadata": {},
   "outputs": [
    {
     "name": "stdout",
     "output_type": "stream",
     "text": [
      "Similarity between the two graphs: 99.45%\n"
     ]
    }
   ],
   "source": [
    "#THE FOLLOWING EVALUATE THE DIFFERENCE OF TWO GRAPH IN PERCENTAGE\n",
    "\n",
    "import pandas as pd\n",
    "import numpy as np\n",
    "\n",
    "file1 = 'RDF_DFT_OH.dat'  \n",
    "file2 = 'RDF_NNP_OH.dat'  \n",
    "\n",
    "data1 = pd.read_csv(file1, header=None, delim_whitespace=True)\n",
    "data2 = pd.read_csv(file2, header=None, delim_whitespace=True)\n",
    "\n",
    "#READ THE COLLUMN\n",
    "y1 = data1.iloc[:, 1].values\n",
    "y2 = data2.iloc[:, 1].values\n",
    "\n",
    "#CHECK LEN() X axis\n",
    "if len(y1) != len(y2):\n",
    "    raise ValueError(\"The two graphs have different numbers of points. Ensure they are aligned.\")\n",
    "\n",
    "# ABSOLUTE DIFFERENCE\n",
    "difference = np.abs(y1 - y2)\n",
    "\n",
    "# SIMILARITY PERCENTAGE\n",
    "max_difference = np.max([np.max(np.abs(y1)), np.max(np.abs(y2))])\n",
    "similarity = 100 * (1 - np.mean(difference / max_difference))\n",
    "\n",
    "print(f\"Similarity between the two graphs: {similarity:.2f}%\")\n"
   ]
  },
  {
   "cell_type": "code",
   "execution_count": null,
   "id": "0faa41ce",
   "metadata": {},
   "outputs": [],
   "source": []
  }
 ],
 "metadata": {
  "kernelspec": {
   "display_name": "Python 3 (ipykernel)",
   "language": "python",
   "name": "python3"
  },
  "language_info": {
   "codemirror_mode": {
    "name": "ipython",
    "version": 3
   },
   "file_extension": ".py",
   "mimetype": "text/x-python",
   "name": "python",
   "nbconvert_exporter": "python",
   "pygments_lexer": "ipython3",
   "version": "3.9.13"
  }
 },
 "nbformat": 4,
 "nbformat_minor": 5
}
